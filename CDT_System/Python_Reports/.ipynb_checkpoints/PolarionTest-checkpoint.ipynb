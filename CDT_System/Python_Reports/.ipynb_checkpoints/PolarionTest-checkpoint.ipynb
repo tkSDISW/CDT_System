{
 "cells": [
  {
   "cell_type": "markdown",
   "id": "b02a2030",
   "metadata": {
    "slideshow": {
     "slide_type": "slide"
    }
   },
   "source": [
    "# Polarion Test \n",
    "\n"
   ]
  },
  {
   "cell_type": "markdown",
   "id": "3d39f975",
   "metadata": {
    "slideshow": {
     "slide_type": "slide"
    }
   },
   "source": [
    "Testing the ability to get Live Documents from Polarion"
   ]
  },
  {
   "cell_type": "code",
   "execution_count": 1,
   "id": "1386d2f7",
   "metadata": {
    "scrolled": true,
    "slideshow": {
     "slide_type": "skip"
    },
    "tags": [
     "hide_code"
    ]
   },
   "outputs": [
    {
     "name": "stdout",
     "output_type": "stream",
     "text": [
      "Username: Tkomar\n",
      "Password: Meetme@730\n"
     ]
    }
   ],
   "source": [
    "import pandas as pd\n",
    "from polarion.polarion import Polarion\n",
    "user = input(\"Username: \")\n",
    "passwd = input(\"Password: \")\n",
    "client = Polarion('https://polarion.diswx.com/polarion', user, passwd)"
   ]
  },
  {
   "cell_type": "code",
   "execution_count": 2,
   "id": "d67a40b9",
   "metadata": {},
   "outputs": [],
   "source": [
    "project = client.getProject('ConcussionDetectionSystem')"
   ]
  },
  {
   "cell_type": "code",
   "execution_count": 3,
   "id": "03af6c1a",
   "metadata": {},
   "outputs": [
    {
     "data": {
      "text/plain": [
       "Polarion project Concussion Detection System prefix CDS"
      ]
     },
     "execution_count": 3,
     "metadata": {},
     "output_type": "execute_result"
    }
   ],
   "source": [
    "project"
   ]
  },
  {
   "cell_type": "code",
   "execution_count": 4,
   "id": "e6edf5d6",
   "metadata": {},
   "outputs": [
    {
     "data": {
      "text/plain": [
       "['Specification', 'Testing']"
      ]
     },
     "execution_count": 4,
     "metadata": {},
     "output_type": "execute_result"
    }
   ],
   "source": [
    "spaces = project.getDocumentSpaces()\n",
    "spaces"
   ]
  },
  {
   "cell_type": "code",
   "execution_count": 5,
   "id": "f1a4ddb8",
   "metadata": {},
   "outputs": [
    {
     "data": {
      "text/plain": [
       "Polarion document None in Specification"
      ]
     },
     "execution_count": 5,
     "metadata": {},
     "output_type": "execute_result"
    }
   ],
   "source": [
    "document = project.getDocument('Specification/Product Specification')\n",
    "document"
   ]
  },
  {
   "cell_type": "code",
   "execution_count": 6,
   "id": "e50eaac3",
   "metadata": {},
   "outputs": [
    {
     "data": {
      "text/plain": [
       "CDS-360: Product Specification"
      ]
     },
     "execution_count": 6,
     "metadata": {},
     "output_type": "execute_result"
    }
   ],
   "source": [
    "top_work_item = document.getTopLevelWorkitem()\n",
    "top_work_item"
   ]
  },
  {
   "cell_type": "code",
   "execution_count": 7,
   "id": "267aa1e9",
   "metadata": {},
   "outputs": [
    {
     "data": {
      "text/plain": [
       "'\\nchildren = document.getChildren(top_work_item)\\nfor child in children:\\n    print(child)\\n    print(document.getParent(child))\\n'"
      ]
     },
     "execution_count": 7,
     "metadata": {},
     "output_type": "execute_result"
    }
   ],
   "source": [
    "\"\"\"\n",
    "children = document.getChildren(top_work_item)\n",
    "for child in children:\n",
    "    print(child)\n",
    "    print(document.getParent(child))\n",
    "\"\"\""
   ]
  },
  {
   "cell_type": "code",
   "execution_count": 11,
   "id": "60771985",
   "metadata": {},
   "outputs": [
    {
     "data": {
      "text/plain": [
       "'\\nfor workitem in work_items:\\n    print(workitem)\\n    print(workitem.outlineNumber)\\n    print(workitem.title)\\n    print(workitem.type.id)\\n    print(workitem.updated)\\n    print(workitem.description)\\n    print(workitem.id)\\n    print(workitem.hyperlinks)\\n    #print(workitem.comment)\\n    print(workitem.location)\\n    print(workitem.uri)\\n    print(workitem.moduleURI)\\n    '"
      ]
     },
     "execution_count": 11,
     "metadata": {},
     "output_type": "execute_result"
    }
   ],
   "source": [
    "\n",
    "work_items = document.getWorkitems()\n",
    "\"\"\"\n",
    "for workitem in work_items:\n",
    "    print(workitem)\n",
    "    print(workitem.outlineNumber)\n",
    "    print(workitem.title)\n",
    "    print(workitem.type.id)\n",
    "    print(workitem.updated)\n",
    "    print(workitem.description)\n",
    "    print(workitem.id)\n",
    "    print(workitem.hyperlinks)\n",
    "    #print(workitem.comment)\n",
    "    print(workitem.location)\n",
    "    print(workitem.uri)\n",
    "    print(workitem.moduleURI)\n",
    "    \"\"\"\n",
    "\n",
    "    "
   ]
  },
  {
   "cell_type": "code",
   "execution_count": null,
   "id": "ed706025",
   "metadata": {},
   "outputs": [],
   "source": []
  },
  {
   "cell_type": "code",
   "execution_count": 12,
   "id": "d892285d",
   "metadata": {},
   "outputs": [],
   "source": [
    "def extract_attrs_of_interest(workitem):\n",
    "    return dict(\n",
    "        Fullname=workitem,\n",
    "        outlineNumber=workitem.outlineNumber,\n",
    "        title=workitem.title,\n",
    "        type_id=workitem.type.id,\n",
    "        updated=workitem.updated,\n",
    "        description=workitem.description,\n",
    "        id=workitem.id,\n",
    "        hyperlinks=workitem.hyperlinks,\n",
    "        location=workitem.location,\n",
    "        uri=workitem.uri,\n",
    "        moduleuri=workitem.moduleURI)\n",
    "\n"
   ]
  },
  {
   "cell_type": "code",
   "execution_count": 13,
   "id": "50fdc949",
   "metadata": {},
   "outputs": [
    {
     "data": {
      "text/html": [
       "<div>\n",
       "<style scoped>\n",
       "    .dataframe tbody tr th:only-of-type {\n",
       "        vertical-align: middle;\n",
       "    }\n",
       "\n",
       "    .dataframe tbody tr th {\n",
       "        vertical-align: top;\n",
       "    }\n",
       "\n",
       "    .dataframe thead th {\n",
       "        text-align: right;\n",
       "    }\n",
       "</style>\n",
       "<table border=\"1\" class=\"dataframe\">\n",
       "  <thead>\n",
       "    <tr style=\"text-align: right;\">\n",
       "      <th></th>\n",
       "      <th>Fullname</th>\n",
       "      <th>outlineNumber</th>\n",
       "      <th>title</th>\n",
       "      <th>type_id</th>\n",
       "      <th>updated</th>\n",
       "      <th>description</th>\n",
       "      <th>id</th>\n",
       "      <th>hyperlinks</th>\n",
       "      <th>location</th>\n",
       "      <th>uri</th>\n",
       "      <th>moduleuri</th>\n",
       "    </tr>\n",
       "  </thead>\n",
       "  <tbody>\n",
       "    <tr>\n",
       "      <th>0</th>\n",
       "      <td>CDS-360: Product Specification</td>\n",
       "      <td>None</td>\n",
       "      <td>Product Specification</td>\n",
       "      <td>heading</td>\n",
       "      <td>2022-07-27 23:20:58.396000+00:00</td>\n",
       "      <td>None</td>\n",
       "      <td>CDS-360</td>\n",
       "      <td>None</td>\n",
       "      <td>default:/Demo Projects/ConcussionDetectionSyst...</td>\n",
       "      <td>subterra:data-service:objects:/default/Concuss...</td>\n",
       "      <td>subterra:data-service:objects:/default/Concuss...</td>\n",
       "    </tr>\n",
       "    <tr>\n",
       "      <th>1</th>\n",
       "      <td>CDS-370: Introduction</td>\n",
       "      <td>1</td>\n",
       "      <td>Introduction</td>\n",
       "      <td>heading</td>\n",
       "      <td>2022-07-18 14:06:15.427000+00:00</td>\n",
       "      <td>None</td>\n",
       "      <td>CDS-370</td>\n",
       "      <td>None</td>\n",
       "      <td>default:/Demo Projects/ConcussionDetectionSyst...</td>\n",
       "      <td>subterra:data-service:objects:/default/Concuss...</td>\n",
       "      <td>subterra:data-service:objects:/default/Concuss...</td>\n",
       "    </tr>\n",
       "    <tr>\n",
       "      <th>2</th>\n",
       "      <td>CDS-313: Overall Description</td>\n",
       "      <td>2</td>\n",
       "      <td>Overall Description</td>\n",
       "      <td>heading</td>\n",
       "      <td>2022-07-18 14:06:15.427000+00:00</td>\n",
       "      <td>None</td>\n",
       "      <td>CDS-313</td>\n",
       "      <td>None</td>\n",
       "      <td>default:/Demo Projects/ConcussionDetectionSyst...</td>\n",
       "      <td>subterra:data-service:objects:/default/Concuss...</td>\n",
       "      <td>subterra:data-service:objects:/default/Concuss...</td>\n",
       "    </tr>\n",
       "    <tr>\n",
       "      <th>3</th>\n",
       "      <td>CDS-314: Product Backlog</td>\n",
       "      <td>3</td>\n",
       "      <td>Product Backlog</td>\n",
       "      <td>heading</td>\n",
       "      <td>2022-07-18 14:06:15.427000+00:00</td>\n",
       "      <td>None</td>\n",
       "      <td>CDS-314</td>\n",
       "      <td>None</td>\n",
       "      <td>default:/Demo Projects/ConcussionDetectionSyst...</td>\n",
       "      <td>subterra:data-service:objects:/default/Concuss...</td>\n",
       "      <td>subterra:data-service:objects:/default/Concuss...</td>\n",
       "    </tr>\n",
       "    <tr>\n",
       "      <th>4</th>\n",
       "      <td>CDS-394: Functional Requirement</td>\n",
       "      <td>4</td>\n",
       "      <td>Functional Requirement</td>\n",
       "      <td>heading</td>\n",
       "      <td>2022-07-27 23:23:02.346000+00:00</td>\n",
       "      <td>None</td>\n",
       "      <td>CDS-394</td>\n",
       "      <td>None</td>\n",
       "      <td>default:/Demo Projects/ConcussionDetectionSyst...</td>\n",
       "      <td>subterra:data-service:objects:/default/Concuss...</td>\n",
       "      <td>subterra:data-service:objects:/default/Concuss...</td>\n",
       "    </tr>\n",
       "    <tr>\n",
       "      <th>5</th>\n",
       "      <td>CDS-316: Nonfunctional Requirements</td>\n",
       "      <td>5</td>\n",
       "      <td>Nonfunctional Requirements</td>\n",
       "      <td>heading</td>\n",
       "      <td>2022-07-18 14:06:15.427000+00:00</td>\n",
       "      <td>None</td>\n",
       "      <td>CDS-316</td>\n",
       "      <td>None</td>\n",
       "      <td>default:/Demo Projects/ConcussionDetectionSyst...</td>\n",
       "      <td>subterra:data-service:objects:/default/Concuss...</td>\n",
       "      <td>subterra:data-service:objects:/default/Concuss...</td>\n",
       "    </tr>\n",
       "    <tr>\n",
       "      <th>6</th>\n",
       "      <td>CDS-322: Appendix A: Terminology/Glossary/Defi...</td>\n",
       "      <td>6</td>\n",
       "      <td>Appendix A: Terminology/Glossary/Definitions list</td>\n",
       "      <td>heading</td>\n",
       "      <td>2022-07-18 14:06:15.427000+00:00</td>\n",
       "      <td>None</td>\n",
       "      <td>CDS-322</td>\n",
       "      <td>None</td>\n",
       "      <td>default:/Demo Projects/ConcussionDetectionSyst...</td>\n",
       "      <td>subterra:data-service:objects:/default/Concuss...</td>\n",
       "      <td>subterra:data-service:objects:/default/Concuss...</td>\n",
       "    </tr>\n",
       "    <tr>\n",
       "      <th>7</th>\n",
       "      <td>CDS-323: Appendix B: Analysis Models</td>\n",
       "      <td>7</td>\n",
       "      <td>Appendix B: Analysis Models</td>\n",
       "      <td>heading</td>\n",
       "      <td>2022-07-27 23:23:02.346000+00:00</td>\n",
       "      <td>None</td>\n",
       "      <td>CDS-323</td>\n",
       "      <td>None</td>\n",
       "      <td>default:/Demo Projects/ConcussionDetectionSyst...</td>\n",
       "      <td>subterra:data-service:objects:/default/Concuss...</td>\n",
       "      <td>subterra:data-service:objects:/default/Concuss...</td>\n",
       "    </tr>\n",
       "    <tr>\n",
       "      <th>8</th>\n",
       "      <td>CDS-390: Purpose</td>\n",
       "      <td>1.1</td>\n",
       "      <td>Purpose</td>\n",
       "      <td>heading</td>\n",
       "      <td>2022-07-18 14:06:15.427000+00:00</td>\n",
       "      <td>None</td>\n",
       "      <td>CDS-390</td>\n",
       "      <td>None</td>\n",
       "      <td>default:/Demo Projects/ConcussionDetectionSyst...</td>\n",
       "      <td>subterra:data-service:objects:/default/Concuss...</td>\n",
       "      <td>subterra:data-service:objects:/default/Concuss...</td>\n",
       "    </tr>\n",
       "    <tr>\n",
       "      <th>9</th>\n",
       "      <td>CDS-310: Scope</td>\n",
       "      <td>1.2</td>\n",
       "      <td>Scope</td>\n",
       "      <td>heading</td>\n",
       "      <td>2022-07-18 14:06:15.427000+00:00</td>\n",
       "      <td>None</td>\n",
       "      <td>CDS-310</td>\n",
       "      <td>None</td>\n",
       "      <td>default:/Demo Projects/ConcussionDetectionSyst...</td>\n",
       "      <td>subterra:data-service:objects:/default/Concuss...</td>\n",
       "      <td>subterra:data-service:objects:/default/Concuss...</td>\n",
       "    </tr>\n",
       "    <tr>\n",
       "      <th>10</th>\n",
       "      <td>CDS-311: References</td>\n",
       "      <td>1.3</td>\n",
       "      <td>References</td>\n",
       "      <td>heading</td>\n",
       "      <td>2022-07-18 14:06:15.427000+00:00</td>\n",
       "      <td>None</td>\n",
       "      <td>CDS-311</td>\n",
       "      <td>None</td>\n",
       "      <td>default:/Demo Projects/ConcussionDetectionSyst...</td>\n",
       "      <td>subterra:data-service:objects:/default/Concuss...</td>\n",
       "      <td>subterra:data-service:objects:/default/Concuss...</td>\n",
       "    </tr>\n",
       "    <tr>\n",
       "      <th>11</th>\n",
       "      <td>CDS-395: Detection</td>\n",
       "      <td>4-1</td>\n",
       "      <td>Detection</td>\n",
       "      <td>requirement</td>\n",
       "      <td>2022-07-27 23:23:02.346000+00:00</td>\n",
       "      <td>[type, content, contentLossy]</td>\n",
       "      <td>CDS-395</td>\n",
       "      <td>None</td>\n",
       "      <td>default:/Demo Projects/ConcussionDetectionSyst...</td>\n",
       "      <td>subterra:data-service:objects:/default/Concuss...</td>\n",
       "      <td>subterra:data-service:objects:/default/Concuss...</td>\n",
       "    </tr>\n",
       "    <tr>\n",
       "      <th>12</th>\n",
       "      <td>CDS-317: Performance Requirements</td>\n",
       "      <td>5.1</td>\n",
       "      <td>Performance Requirements</td>\n",
       "      <td>heading</td>\n",
       "      <td>2022-07-18 17:28:49.194000+00:00</td>\n",
       "      <td>None</td>\n",
       "      <td>CDS-317</td>\n",
       "      <td>None</td>\n",
       "      <td>default:/Demo Projects/ConcussionDetectionSyst...</td>\n",
       "      <td>subterra:data-service:objects:/default/Concuss...</td>\n",
       "      <td>subterra:data-service:objects:/default/Concuss...</td>\n",
       "    </tr>\n",
       "    <tr>\n",
       "      <th>13</th>\n",
       "      <td>CDS-318: Safety Requirements</td>\n",
       "      <td>5.2</td>\n",
       "      <td>Safety Requirements</td>\n",
       "      <td>heading</td>\n",
       "      <td>2022-07-18 14:06:15.427000+00:00</td>\n",
       "      <td>None</td>\n",
       "      <td>CDS-318</td>\n",
       "      <td>None</td>\n",
       "      <td>default:/Demo Projects/ConcussionDetectionSyst...</td>\n",
       "      <td>subterra:data-service:objects:/default/Concuss...</td>\n",
       "      <td>subterra:data-service:objects:/default/Concuss...</td>\n",
       "    </tr>\n",
       "    <tr>\n",
       "      <th>14</th>\n",
       "      <td>CDS-319: Security Requirements</td>\n",
       "      <td>5.3</td>\n",
       "      <td>Security Requirements</td>\n",
       "      <td>heading</td>\n",
       "      <td>2022-07-18 14:06:15.427000+00:00</td>\n",
       "      <td>None</td>\n",
       "      <td>CDS-319</td>\n",
       "      <td>None</td>\n",
       "      <td>default:/Demo Projects/ConcussionDetectionSyst...</td>\n",
       "      <td>subterra:data-service:objects:/default/Concuss...</td>\n",
       "      <td>subterra:data-service:objects:/default/Concuss...</td>\n",
       "    </tr>\n",
       "    <tr>\n",
       "      <th>15</th>\n",
       "      <td>CDS-320: Software Quality Attributes</td>\n",
       "      <td>5.4</td>\n",
       "      <td>Software Quality Attributes</td>\n",
       "      <td>heading</td>\n",
       "      <td>2022-07-18 14:06:15.427000+00:00</td>\n",
       "      <td>None</td>\n",
       "      <td>CDS-320</td>\n",
       "      <td>None</td>\n",
       "      <td>default:/Demo Projects/ConcussionDetectionSyst...</td>\n",
       "      <td>subterra:data-service:objects:/default/Concuss...</td>\n",
       "      <td>subterra:data-service:objects:/default/Concuss...</td>\n",
       "    </tr>\n",
       "    <tr>\n",
       "      <th>16</th>\n",
       "      <td>CDS-321: Other Requirements</td>\n",
       "      <td>5.5</td>\n",
       "      <td>Other Requirements</td>\n",
       "      <td>heading</td>\n",
       "      <td>2022-07-18 14:06:15.427000+00:00</td>\n",
       "      <td>None</td>\n",
       "      <td>CDS-321</td>\n",
       "      <td>None</td>\n",
       "      <td>default:/Demo Projects/ConcussionDetectionSyst...</td>\n",
       "      <td>subterra:data-service:objects:/default/Concuss...</td>\n",
       "      <td>subterra:data-service:objects:/default/Concuss...</td>\n",
       "    </tr>\n",
       "    <tr>\n",
       "      <th>17</th>\n",
       "      <td>CDS-392: The system shall of a range of 5 km f...</td>\n",
       "      <td>5.1-1</td>\n",
       "      <td>The system shall of a range of 5 km for active...</td>\n",
       "      <td>requirement</td>\n",
       "      <td>2022-07-27 14:07:59.317000+00:00</td>\n",
       "      <td>None</td>\n",
       "      <td>CDS-392</td>\n",
       "      <td>None</td>\n",
       "      <td>default:/Demo Projects/ConcussionDetectionSyst...</td>\n",
       "      <td>subterra:data-service:objects:/default/Concuss...</td>\n",
       "      <td>subterra:data-service:objects:/default/Concuss...</td>\n",
       "    </tr>\n",
       "  </tbody>\n",
       "</table>\n",
       "</div>"
      ],
      "text/plain": [
       "                                             Fullname outlineNumber  \\\n",
       "0                      CDS-360: Product Specification          None   \n",
       "1                               CDS-370: Introduction             1   \n",
       "2                        CDS-313: Overall Description             2   \n",
       "3                            CDS-314: Product Backlog             3   \n",
       "4                     CDS-394: Functional Requirement             4   \n",
       "5                 CDS-316: Nonfunctional Requirements             5   \n",
       "6   CDS-322: Appendix A: Terminology/Glossary/Defi...             6   \n",
       "7                CDS-323: Appendix B: Analysis Models             7   \n",
       "8                                    CDS-390: Purpose           1.1   \n",
       "9                                      CDS-310: Scope           1.2   \n",
       "10                                CDS-311: References           1.3   \n",
       "11                                 CDS-395: Detection           4-1   \n",
       "12                  CDS-317: Performance Requirements           5.1   \n",
       "13                       CDS-318: Safety Requirements           5.2   \n",
       "14                     CDS-319: Security Requirements           5.3   \n",
       "15               CDS-320: Software Quality Attributes           5.4   \n",
       "16                        CDS-321: Other Requirements           5.5   \n",
       "17  CDS-392: The system shall of a range of 5 km f...         5.1-1   \n",
       "\n",
       "                                                title      type_id  \\\n",
       "0                               Product Specification      heading   \n",
       "1                                        Introduction      heading   \n",
       "2                                 Overall Description      heading   \n",
       "3                                     Product Backlog      heading   \n",
       "4                              Functional Requirement      heading   \n",
       "5                          Nonfunctional Requirements      heading   \n",
       "6   Appendix A: Terminology/Glossary/Definitions list      heading   \n",
       "7                         Appendix B: Analysis Models      heading   \n",
       "8                                             Purpose      heading   \n",
       "9                                               Scope      heading   \n",
       "10                                         References      heading   \n",
       "11                                          Detection  requirement   \n",
       "12                           Performance Requirements      heading   \n",
       "13                                Safety Requirements      heading   \n",
       "14                              Security Requirements      heading   \n",
       "15                        Software Quality Attributes      heading   \n",
       "16                                 Other Requirements      heading   \n",
       "17  The system shall of a range of 5 km for active...  requirement   \n",
       "\n",
       "                            updated                    description       id  \\\n",
       "0  2022-07-27 23:20:58.396000+00:00                           None  CDS-360   \n",
       "1  2022-07-18 14:06:15.427000+00:00                           None  CDS-370   \n",
       "2  2022-07-18 14:06:15.427000+00:00                           None  CDS-313   \n",
       "3  2022-07-18 14:06:15.427000+00:00                           None  CDS-314   \n",
       "4  2022-07-27 23:23:02.346000+00:00                           None  CDS-394   \n",
       "5  2022-07-18 14:06:15.427000+00:00                           None  CDS-316   \n",
       "6  2022-07-18 14:06:15.427000+00:00                           None  CDS-322   \n",
       "7  2022-07-27 23:23:02.346000+00:00                           None  CDS-323   \n",
       "8  2022-07-18 14:06:15.427000+00:00                           None  CDS-390   \n",
       "9  2022-07-18 14:06:15.427000+00:00                           None  CDS-310   \n",
       "10 2022-07-18 14:06:15.427000+00:00                           None  CDS-311   \n",
       "11 2022-07-27 23:23:02.346000+00:00  [type, content, contentLossy]  CDS-395   \n",
       "12 2022-07-18 17:28:49.194000+00:00                           None  CDS-317   \n",
       "13 2022-07-18 14:06:15.427000+00:00                           None  CDS-318   \n",
       "14 2022-07-18 14:06:15.427000+00:00                           None  CDS-319   \n",
       "15 2022-07-18 14:06:15.427000+00:00                           None  CDS-320   \n",
       "16 2022-07-18 14:06:15.427000+00:00                           None  CDS-321   \n",
       "17 2022-07-27 14:07:59.317000+00:00                           None  CDS-392   \n",
       "\n",
       "   hyperlinks                                           location  \\\n",
       "0        None  default:/Demo Projects/ConcussionDetectionSyst...   \n",
       "1        None  default:/Demo Projects/ConcussionDetectionSyst...   \n",
       "2        None  default:/Demo Projects/ConcussionDetectionSyst...   \n",
       "3        None  default:/Demo Projects/ConcussionDetectionSyst...   \n",
       "4        None  default:/Demo Projects/ConcussionDetectionSyst...   \n",
       "5        None  default:/Demo Projects/ConcussionDetectionSyst...   \n",
       "6        None  default:/Demo Projects/ConcussionDetectionSyst...   \n",
       "7        None  default:/Demo Projects/ConcussionDetectionSyst...   \n",
       "8        None  default:/Demo Projects/ConcussionDetectionSyst...   \n",
       "9        None  default:/Demo Projects/ConcussionDetectionSyst...   \n",
       "10       None  default:/Demo Projects/ConcussionDetectionSyst...   \n",
       "11       None  default:/Demo Projects/ConcussionDetectionSyst...   \n",
       "12       None  default:/Demo Projects/ConcussionDetectionSyst...   \n",
       "13       None  default:/Demo Projects/ConcussionDetectionSyst...   \n",
       "14       None  default:/Demo Projects/ConcussionDetectionSyst...   \n",
       "15       None  default:/Demo Projects/ConcussionDetectionSyst...   \n",
       "16       None  default:/Demo Projects/ConcussionDetectionSyst...   \n",
       "17       None  default:/Demo Projects/ConcussionDetectionSyst...   \n",
       "\n",
       "                                                  uri  \\\n",
       "0   subterra:data-service:objects:/default/Concuss...   \n",
       "1   subterra:data-service:objects:/default/Concuss...   \n",
       "2   subterra:data-service:objects:/default/Concuss...   \n",
       "3   subterra:data-service:objects:/default/Concuss...   \n",
       "4   subterra:data-service:objects:/default/Concuss...   \n",
       "5   subterra:data-service:objects:/default/Concuss...   \n",
       "6   subterra:data-service:objects:/default/Concuss...   \n",
       "7   subterra:data-service:objects:/default/Concuss...   \n",
       "8   subterra:data-service:objects:/default/Concuss...   \n",
       "9   subterra:data-service:objects:/default/Concuss...   \n",
       "10  subterra:data-service:objects:/default/Concuss...   \n",
       "11  subterra:data-service:objects:/default/Concuss...   \n",
       "12  subterra:data-service:objects:/default/Concuss...   \n",
       "13  subterra:data-service:objects:/default/Concuss...   \n",
       "14  subterra:data-service:objects:/default/Concuss...   \n",
       "15  subterra:data-service:objects:/default/Concuss...   \n",
       "16  subterra:data-service:objects:/default/Concuss...   \n",
       "17  subterra:data-service:objects:/default/Concuss...   \n",
       "\n",
       "                                            moduleuri  \n",
       "0   subterra:data-service:objects:/default/Concuss...  \n",
       "1   subterra:data-service:objects:/default/Concuss...  \n",
       "2   subterra:data-service:objects:/default/Concuss...  \n",
       "3   subterra:data-service:objects:/default/Concuss...  \n",
       "4   subterra:data-service:objects:/default/Concuss...  \n",
       "5   subterra:data-service:objects:/default/Concuss...  \n",
       "6   subterra:data-service:objects:/default/Concuss...  \n",
       "7   subterra:data-service:objects:/default/Concuss...  \n",
       "8   subterra:data-service:objects:/default/Concuss...  \n",
       "9   subterra:data-service:objects:/default/Concuss...  \n",
       "10  subterra:data-service:objects:/default/Concuss...  \n",
       "11  subterra:data-service:objects:/default/Concuss...  \n",
       "12  subterra:data-service:objects:/default/Concuss...  \n",
       "13  subterra:data-service:objects:/default/Concuss...  \n",
       "14  subterra:data-service:objects:/default/Concuss...  \n",
       "15  subterra:data-service:objects:/default/Concuss...  \n",
       "16  subterra:data-service:objects:/default/Concuss...  \n",
       "17  subterra:data-service:objects:/default/Concuss...  "
      ]
     },
     "execution_count": 13,
     "metadata": {},
     "output_type": "execute_result"
    }
   ],
   "source": [
    "Pol_Req_Spec = pd.DataFrame(list(map(extract_attrs_of_interest, work_items)))\n",
    "Pol_Req_Spec"
   ]
  },
  {
   "cell_type": "code",
   "execution_count": null,
   "id": "5460db53",
   "metadata": {},
   "outputs": [],
   "source": []
  }
 ],
 "metadata": {
  "kernelspec": {
   "display_name": "Python 3 (ipykernel)",
   "language": "python",
   "name": "python3"
  },
  "language_info": {
   "codemirror_mode": {
    "name": "ipython",
    "version": 3
   },
   "file_extension": ".py",
   "mimetype": "text/x-python",
   "name": "python",
   "nbconvert_exporter": "python",
   "pygments_lexer": "ipython3",
   "version": "3.8.10"
  }
 },
 "nbformat": 4,
 "nbformat_minor": 5
}
