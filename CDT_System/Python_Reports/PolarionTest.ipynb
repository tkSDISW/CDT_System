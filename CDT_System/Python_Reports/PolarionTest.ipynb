{
 "cells": [
  {
   "cell_type": "markdown",
   "id": "b02a2030",
   "metadata": {
    "slideshow": {
     "slide_type": "slide"
    }
   },
   "source": [
    "# Polarion Test \n",
    "\n"
   ]
  },
  {
   "cell_type": "markdown",
   "id": "3d39f975",
   "metadata": {
    "slideshow": {
     "slide_type": "slide"
    }
   },
   "source": [
    "Testing the ability to get Live Documents from Polarion"
   ]
  },
  {
   "cell_type": "code",
   "execution_count": 1,
   "id": "1386d2f7",
   "metadata": {
    "scrolled": true,
    "slideshow": {
     "slide_type": "skip"
    },
    "tags": [
     "hide_code"
    ]
   },
   "outputs": [
    {
     "name": "stdout",
     "output_type": "stream",
     "text": [
      "Username: Tkomar\n",
      "Password: Meetme@730\n"
     ]
    }
   ],
   "source": [
    "from polarion.polarion import Polarion\n",
    "user = input(\"Username: \")\n",
    "passwd = input(\"Password: \")\n",
    "client = Polarion('https://polarion.diswx.com/polarion', user, passwd)"
   ]
  },
  {
   "cell_type": "code",
   "execution_count": 2,
   "id": "d67a40b9",
   "metadata": {},
   "outputs": [],
   "source": [
    "project = client.getProject('ConcussionDetectionSystem')"
   ]
  },
  {
   "cell_type": "code",
   "execution_count": 3,
   "id": "03af6c1a",
   "metadata": {},
   "outputs": [
    {
     "data": {
      "text/plain": [
       "Polarion project Concussion Detection System prefix CDS"
      ]
     },
     "execution_count": 3,
     "metadata": {},
     "output_type": "execute_result"
    }
   ],
   "source": [
    "project"
   ]
  },
  {
   "cell_type": "code",
   "execution_count": 4,
   "id": "e6edf5d6",
   "metadata": {},
   "outputs": [
    {
     "data": {
      "text/plain": [
       "['Specification', 'Testing']"
      ]
     },
     "execution_count": 4,
     "metadata": {},
     "output_type": "execute_result"
    }
   ],
   "source": [
    "spaces = project.getDocumentSpaces()\n",
    "spaces"
   ]
  },
  {
   "cell_type": "code",
   "execution_count": 5,
   "id": "f1a4ddb8",
   "metadata": {},
   "outputs": [
    {
     "data": {
      "text/plain": [
       "Polarion document None in Specification"
      ]
     },
     "execution_count": 5,
     "metadata": {},
     "output_type": "execute_result"
    }
   ],
   "source": [
    "document = project.getDocument('Specification/Product Specification')\n",
    "document"
   ]
  },
  {
   "cell_type": "code",
   "execution_count": 6,
   "id": "e50eaac3",
   "metadata": {},
   "outputs": [
    {
     "data": {
      "text/plain": [
       "CDS-360: Product Specification"
      ]
     },
     "execution_count": 6,
     "metadata": {},
     "output_type": "execute_result"
    }
   ],
   "source": [
    "top_work_item = document.getTopLevelWorkitem()\n",
    "top_work_item"
   ]
  },
  {
   "cell_type": "code",
   "execution_count": 7,
   "id": "267aa1e9",
   "metadata": {},
   "outputs": [
    {
     "name": "stdout",
     "output_type": "stream",
     "text": [
      "CDS-322: Appendix A: Terminology/Glossary/Definitions list\n",
      "CDS-360: Product Specification\n",
      "CDS-316: Nonfunctional Requirements\n",
      "CDS-360: Product Specification\n",
      "CDS-313: Overall Description\n",
      "CDS-360: Product Specification\n",
      "CDS-314: Product Backlog\n",
      "CDS-360: Product Specification\n",
      "CDS-370: Introduction\n",
      "CDS-360: Product Specification\n",
      "CDS-394: Functional Requirement\n",
      "CDS-360: Product Specification\n",
      "CDS-323: Appendix B: Analysis Models\n",
      "CDS-360: Product Specification\n"
     ]
    }
   ],
   "source": [
    "children = document.getChildren(top_work_item)\n",
    "for child in children:\n",
    "    print(child)\n",
    "    print(document.getParent(child))"
   ]
  },
  {
   "cell_type": "code",
   "execution_count": 8,
   "id": "60771985",
   "metadata": {},
   "outputs": [
    {
     "name": "stdout",
     "output_type": "stream",
     "text": [
      "CDS-360: Product Specification\n",
      "None\n",
      "CDS-370: Introduction\n",
      "1\n",
      "CDS-313: Overall Description\n",
      "2\n",
      "CDS-314: Product Backlog\n",
      "3\n",
      "CDS-394: Functional Requirement\n",
      "4\n",
      "CDS-316: Nonfunctional Requirements\n",
      "5\n",
      "CDS-322: Appendix A: Terminology/Glossary/Definitions list\n",
      "6\n",
      "CDS-323: Appendix B: Analysis Models\n",
      "7\n",
      "CDS-390: Purpose\n",
      "1.1\n",
      "CDS-310: Scope\n",
      "1.2\n",
      "CDS-311: References\n",
      "1.3\n",
      "CDS-395: Detection\n",
      "4-1\n",
      "CDS-317: Performance Requirements\n",
      "5.1\n",
      "CDS-318: Safety Requirements\n",
      "5.2\n",
      "CDS-319: Security Requirements\n",
      "5.3\n",
      "CDS-320: Software Quality Attributes\n",
      "5.4\n",
      "CDS-321: Other Requirements\n",
      "5.5\n",
      "CDS-392: The system shall of a range of 5 km for active sensors.\n",
      "5.1-1\n"
     ]
    }
   ],
   "source": [
    "work_items = document.getWorkitems()\n",
    "for work_item in work_items:\n",
    "    print(work_item)\n",
    "    print(work_item.outlineNumber)"
   ]
  },
  {
   "cell_type": "code",
   "execution_count": null,
   "id": "d892285d",
   "metadata": {},
   "outputs": [],
   "source": []
  }
 ],
 "metadata": {
  "kernelspec": {
   "display_name": "Python 3 (ipykernel)",
   "language": "python",
   "name": "python3"
  },
  "language_info": {
   "codemirror_mode": {
    "name": "ipython",
    "version": 3
   },
   "file_extension": ".py",
   "mimetype": "text/x-python",
   "name": "python",
   "nbconvert_exporter": "python",
   "pygments_lexer": "ipython3",
   "version": "3.8.10"
  }
 },
 "nbformat": 4,
 "nbformat_minor": 5
}
