{
 "cells": [
  {
   "cell_type": "markdown",
   "id": "b02a2030",
   "metadata": {
    "slideshow": {
     "slide_type": "slide"
    }
   },
   "source": [
    "# Polarion Test \n",
    "\n"
   ]
  },
  {
   "cell_type": "markdown",
   "id": "3d39f975",
   "metadata": {
    "slideshow": {
     "slide_type": "slide"
    }
   },
   "source": [
    "Testing the ability to get Live Documents from Polarion"
   ]
  },
  {
   "cell_type": "code",
   "execution_count": 1,
   "id": "1386d2f7",
   "metadata": {
    "scrolled": true,
    "slideshow": {
     "slide_type": "skip"
    },
    "tags": [
     "hide_code"
    ]
   },
   "outputs": [
    {
     "name": "stdout",
     "output_type": "stream",
     "text": [
      "Username: Tkomar\n",
      "Password: Meetme@730\n"
     ]
    },
    {
     "ename": "Exception",
     "evalue": "Cannot login because WSDL has no SessionWebService",
     "output_type": "error",
     "traceback": [
      "\u001b[1;31m---------------------------------------------------------------------------\u001b[0m",
      "\u001b[1;31mException\u001b[0m                                 Traceback (most recent call last)",
      "Input \u001b[1;32mIn [1]\u001b[0m, in \u001b[0;36m<cell line: 4>\u001b[1;34m()\u001b[0m\n\u001b[0;32m      2\u001b[0m user \u001b[38;5;241m=\u001b[39m \u001b[38;5;28minput\u001b[39m(\u001b[38;5;124m\"\u001b[39m\u001b[38;5;124mUsername: \u001b[39m\u001b[38;5;124m\"\u001b[39m)\n\u001b[0;32m      3\u001b[0m passwd \u001b[38;5;241m=\u001b[39m \u001b[38;5;28minput\u001b[39m(\u001b[38;5;124m\"\u001b[39m\u001b[38;5;124mPassword: \u001b[39m\u001b[38;5;124m\"\u001b[39m)\n\u001b[1;32m----> 4\u001b[0m client \u001b[38;5;241m=\u001b[39m \u001b[43mPolarion\u001b[49m\u001b[43m(\u001b[49m\u001b[38;5;124;43m'\u001b[39;49m\u001b[38;5;124;43mhttps://polarion.diswx.com/polarion\u001b[39;49m\u001b[38;5;124;43m'\u001b[39;49m\u001b[43m,\u001b[49m\u001b[43m \u001b[49m\u001b[43muser\u001b[49m\u001b[43m,\u001b[49m\u001b[43m \u001b[49m\u001b[43mpasswd\u001b[49m\u001b[43m)\u001b[49m\n",
      "File \u001b[1;32mc:\\apps\\git\\py-capellambse\\.venv\\lib\\site-packages\\polarion\\polarion.py:51\u001b[0m, in \u001b[0;36mPolarion.__init__\u001b[1;34m(self, polarion_url, user, password, token, static_service_list, skip_cert_verification, svn_repo_url, proxy)\u001b[0m\n\u001b[0;32m     49\u001b[0m \u001b[38;5;28;01melse\u001b[39;00m:\n\u001b[0;32m     50\u001b[0m     \u001b[38;5;28mself\u001b[39m\u001b[38;5;241m.\u001b[39m_getServices()\n\u001b[1;32m---> 51\u001b[0m \u001b[38;5;28;43mself\u001b[39;49m\u001b[38;5;241;43m.\u001b[39;49m\u001b[43m_createSession\u001b[49m\u001b[43m(\u001b[49m\u001b[43m)\u001b[49m\n\u001b[0;32m     52\u001b[0m \u001b[38;5;28mself\u001b[39m\u001b[38;5;241m.\u001b[39m_getTypes()\n\u001b[0;32m     54\u001b[0m atexit\u001b[38;5;241m.\u001b[39mregister(\u001b[38;5;28mself\u001b[39m\u001b[38;5;241m.\u001b[39m_atexit_cleanup)\n",
      "File \u001b[1;32mc:\\apps\\git\\py-capellambse\\.venv\\lib\\site-packages\\polarion\\polarion.py:113\u001b[0m, in \u001b[0;36mPolarion._createSession\u001b[1;34m(self)\u001b[0m\n\u001b[0;32m    111\u001b[0m         \u001b[38;5;28mself\u001b[39m\u001b[38;5;241m.\u001b[39m_updateServices()\n\u001b[0;32m    112\u001b[0m \u001b[38;5;28;01melse\u001b[39;00m:\n\u001b[1;32m--> 113\u001b[0m     \u001b[38;5;28;01mraise\u001b[39;00m \u001b[38;5;167;01mException\u001b[39;00m(\n\u001b[0;32m    114\u001b[0m         \u001b[38;5;124m'\u001b[39m\u001b[38;5;124mCannot login because WSDL has no SessionWebService\u001b[39m\u001b[38;5;124m'\u001b[39m)\n",
      "\u001b[1;31mException\u001b[0m: Cannot login because WSDL has no SessionWebService"
     ]
    }
   ],
   "source": [
    "from polarion.polarion import Polarion\n",
    "user = input(\"Username: \")\n",
    "passwd = input(\"Password: \")\n",
    "client = Polarion('https://polarion.diswx.com/polarion', user, passwd)"
   ]
  },
  {
   "cell_type": "code",
   "execution_count": null,
   "id": "d67a40b9",
   "metadata": {},
   "outputs": [],
   "source": [
    "project = client.getProject('ConcussionDetectionSystem')"
   ]
  },
  {
   "cell_type": "code",
   "execution_count": null,
   "id": "03af6c1a",
   "metadata": {},
   "outputs": [],
   "source": [
    "project"
   ]
  },
  {
   "cell_type": "code",
   "execution_count": null,
   "id": "e6edf5d6",
   "metadata": {},
   "outputs": [],
   "source": [
    "spaces = project.getDocumentSpaces()\n",
    "spaces"
   ]
  },
  {
   "cell_type": "code",
   "execution_count": null,
   "id": "f1a4ddb8",
   "metadata": {},
   "outputs": [],
   "source": [
    "document = project.getDocument('Specification/Product Specification')\n",
    "document"
   ]
  },
  {
   "cell_type": "code",
   "execution_count": null,
   "id": "e50eaac3",
   "metadata": {},
   "outputs": [],
   "source": [
    "top_work_item = document.getTopLevelWorkitem()\n",
    "top_work_item"
   ]
  },
  {
   "cell_type": "code",
   "execution_count": null,
   "id": "267aa1e9",
   "metadata": {},
   "outputs": [],
   "source": [
    "children = document.getChildren(top_work_item)\n",
    "for child in children:\n",
    "    print(child)\n",
    "    print(document.getParent(child))"
   ]
  },
  {
   "cell_type": "code",
   "execution_count": null,
   "id": "60771985",
   "metadata": {},
   "outputs": [],
   "source": [
    "work_items = document.getWorkitems()\n",
    "for work_item in work_items:\n",
    "    print(work_item)\n",
    "    print(work_item.outlineNumber)\n",
    "    print(workitem.title)\n",
    "    print(workitem.type.id)\n",
    "    print(workitem.updated)\n",
    "    print(workitem.description)\n",
    "    print(workitem.id)\n",
    "    print(workitem.hyperlinks)\n",
    "    print(workitem.comment)\n",
    "    print(workitem.location)\n",
    "    print(workitem.uri)\n",
    "    print(workitem.moduleURI)\n",
    "    "
   ]
  },
  {
   "cell_type": "code",
   "execution_count": null,
   "id": "ed706025",
   "metadata": {},
   "outputs": [],
   "source": []
  },
  {
   "cell_type": "code",
   "execution_count": null,
   "id": "d892285d",
   "metadata": {},
   "outputs": [],
   "source": [
    "def extract_attrs_of_interest(workitem):\n",
    "    return dict(\n",
    "        Fullname=workitem,\n",
    "        outlineNumber=work_item.outlineNumber.\n",
    "        title=workitem.title,\n",
    "        type_id=workitem.type.id,\n",
    "        updated=workitem.updated,\n",
    "        description=workitem.description,\n",
    "        id=workitem.id,\n",
    "        hyperlinks=workitem.hyperlinks,\n",
    "        comment=workitem.comment,\n",
    "        location=workitem.location,\n",
    "        uri=workitem.uri,\n",
    "        moduleuri=workitem.moduleURI,\n",
    "\n"
   ]
  },
  {
   "cell_type": "code",
   "execution_count": null,
   "id": "50fdc949",
   "metadata": {},
   "outputs": [],
   "source": [
    "Pol_Req_Spec = pd.DataFrame(list(map(extract_attrs_of_interest, work_items)))\n",
    "Pol_Req_Spec"
   ]
  }
 ],
 "metadata": {
  "kernelspec": {
   "display_name": "Python 3 (ipykernel)",
   "language": "python",
   "name": "python3"
  },
  "language_info": {
   "codemirror_mode": {
    "name": "ipython",
    "version": 3
   },
   "file_extension": ".py",
   "mimetype": "text/x-python",
   "name": "python",
   "nbconvert_exporter": "python",
   "pygments_lexer": "ipython3",
   "version": "3.8.10"
  }
 },
 "nbformat": 4,
 "nbformat_minor": 5
}
