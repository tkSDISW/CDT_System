{
 "cells": [
  {
   "cell_type": "markdown",
   "id": "b02a2030",
   "metadata": {
    "slideshow": {
     "slide_type": "slide"
    }
   },
   "source": [
    "# Polarion Test \n",
    "\n"
   ]
  },
  {
   "cell_type": "markdown",
   "id": "3d39f975",
   "metadata": {
    "slideshow": {
     "slide_type": "slide"
    }
   },
   "source": []
  },
  {
   "cell_type": "code",
   "execution_count": 1,
   "id": "1386d2f7",
   "metadata": {
    "scrolled": true,
    "slideshow": {
     "slide_type": "skip"
    },
    "tags": [
     "hide_code"
    ]
   },
   "outputs": [],
   "source": [
    "from polarion.polarion import Polarion\n",
    "client = Polarion('https://polarion.diswx.com/polarion', 'Tkomar', 'Wilma2022!')"
   ]
  },
  {
   "cell_type": "code",
   "execution_count": null,
   "id": "d67a40b9",
   "metadata": {},
   "outputs": [],
   "source": [
    "project = client.getProject('Cordless Drill')"
   ]
  }
 ],
 "metadata": {
  "kernelspec": {
   "display_name": "Python 3 (ipykernel)",
   "language": "python",
   "name": "python3"
  },
  "language_info": {
   "codemirror_mode": {
    "name": "ipython",
    "version": 3
   },
   "file_extension": ".py",
   "mimetype": "text/x-python",
   "name": "python",
   "nbconvert_exporter": "python",
   "pygments_lexer": "ipython3",
   "version": "3.8.10"
  }
 },
 "nbformat": 4,
 "nbformat_minor": 5
}
